{
 "cells": [
  {
   "cell_type": "code",
   "execution_count": 1,
   "metadata": {},
   "outputs": [
    {
     "name": "stderr",
     "output_type": "stream",
     "text": [
      "/Users/comfortablynumb/.pyenv/versions/3.8.6/lib/python3.8/site-packages/pandas/compat/__init__.py:97: UserWarning: Could not import the lzma module. Your installed Python is incomplete. Attempting to use lzma compression will result in a RuntimeError.\n",
      "  warnings.warn(msg)\n"
     ]
    }
   ],
   "source": [
    "from pyvacy.analysis import epsilon\n",
    "import matplotlib.pyplot as plt\n",
    "import numpy as np\n",
    "import pandas as pd\n",
    "import seaborn as sns\n",
    "plt.rcParams.update({'font.size': 15})"
   ]
  },
  {
   "cell_type": "code",
   "execution_count": 2,
   "metadata": {},
   "outputs": [],
   "source": [
    "def ternary_search(f, left, right, iterations):\n",
    "    \"\"\"Performs a search over a closed domain [left, right] for the value which minimizes f.\"\"\"\n",
    "    for i in range(iterations):\n",
    "        left_third = left + (right - left) / 3\n",
    "        right_third = right - (right - left) / 3\n",
    "        if f(left_third) < f(right_third):\n",
    "            right = right_third\n",
    "        else:\n",
    "            left = left_third\n",
    "    return (left + right) / 2"
   ]
  },
  {
   "cell_type": "code",
   "execution_count": 3,
   "metadata": {},
   "outputs": [],
   "source": [
    "def d(gamma, d1, d2):\n",
    "    return (np.sqrt(2)/ gamma) * np.sqrt(d1) * np.log2(1/d2) + (d2)"
   ]
  },
  {
   "cell_type": "code",
   "execution_count": 4,
   "metadata": {},
   "outputs": [],
   "source": [
    "def compute_d1(target_delta, gamma):\n",
    "    return ternary_search(lambda d1: abs(target_delta-d(gamma, d1, 1*1e-20)), 1e-30, 1e-5, 100)"
   ]
  },
  {
   "cell_type": "code",
   "execution_count": 5,
   "metadata": {},
   "outputs": [],
   "source": [
    "def compute_epsilon(nm, l, iters, target_delta, d_size, g):\n",
    "    lt_d1 = compute_d1(target_delta, g)\n",
    "    model_eps = epsilon(d_size, l, nm, iters, lt_d1)\n",
    "    return 3*model_eps + 3*np.sqrt(2*lt_d1)"
   ]
  },
  {
   "cell_type": "code",
   "execution_count": 6,
   "metadata": {},
   "outputs": [],
   "source": [
    "def compute_d1_d2(target_delta, gamma, d2):\n",
    "    return ternary_search(lambda d1: abs(target_delta-d(gamma, d1, 1*d2)), 1e-30, 1e-5, 100)\n",
    "def compute_epsilon_d2(nm, l, iters, target_delta, d_size, g, d2):\n",
    "    lt_d1 = compute_d1_d2(target_delta, g, d2)\n",
    "    model_eps = epsilon(d_size, l, nm, iters, lt_d1)\n",
    "    return 3*model_eps + 3*np.sqrt(2*lt_d1)"
   ]
  },
  {
   "cell_type": "markdown",
   "metadata": {},
   "source": [
    "Figure 1 : LT vs MA"
   ]
  },
  {
   "cell_type": "code",
   "execution_count": 7,
   "metadata": {},
   "outputs": [],
   "source": [
    "noise =  4\n",
    "iterations = 10000\n",
    "batch_size = 250\n",
    "sizes = np.append([5000],np.arange(50000, 1000000, 100000))"
   ]
  },
  {
   "cell_type": "code",
   "execution_count": 8,
   "metadata": {},
   "outputs": [],
   "source": [
    "df = []\n",
    "factor = []\n",
    "for s in sizes:\n",
    "    ds = []\n",
    "    target_delta = 10**-(len(str(s))+1)\n",
    "    ds.append(compute_epsilon(noise, batch_size,iterations, target_delta, s, 1))\n",
    "    ds.append(epsilon(s, batch_size, noise, iterations, target_delta))\n",
    "    factor.append(round(ds[0]/ds[1],2))\n",
    "    df.append(ds)"
   ]
  },
  {
   "cell_type": "code",
   "execution_count": 9,
   "metadata": {},
   "outputs": [],
   "source": [
    "df = pd.DataFrame(df, index=sizes, columns=['LT', 'MA'])\n",
    "df['size'] = sizes\n",
    "df = df.melt(id_vars='size')\n",
    "df = df.rename({'size':'Dataset Size', 'variable':'method', 'value':'Final Epsilon'}, axis=1)"
   ]
  },
  {
   "cell_type": "code",
   "execution_count": 10,
   "metadata": {},
   "outputs": [
    {
     "name": "stderr",
     "output_type": "stream",
     "text": [
      "<ipython-input-10-ae6acc15651e>:10: UserWarning: Attempted to set non-positive bottom ylim on a log-scaled axis.\n",
      "Invalid limit will be ignored.\n",
      "  plt.ylim(0, 200)\n"
     ]
    },
    {
     "data": {
      "image/png": "[encoded data removed]",
      "text/plain": [
       "<Figure size 432x288 with 1 Axes>"
      ]
     },
     "metadata": {
      "needs_background": "light"
     },
     "output_type": "display_data"
    }
   ],
   "source": [
    "g = sns.barplot(data= df, x='Dataset Size', y='Final Epsilon', hue='method')\n",
    "ticklabels = ['5k', '50k', '150k', '250k', '350k', '450k', '550k', '650k', '750k', '850k', '950k']\n",
    "# g.set_xticks(sizes)\n",
    "g.set_xticklabels(ticklabels, rotation=90, fontsize=15)\n",
    "for index, value in df.iterrows():\n",
    "    if(value.method=='LT'):\n",
    "        g.text(index,value['Final Epsilon']+0.15, f'{factor[index]}x', color='black', ha=\"center\", fontsize=15, rotation=90)\n",
    "g.set(yscale='log')\n",
    "plt.legend(fontsize=15)\n",
    "plt.ylim(0, 200)\n",
    "plt.savefig('Plots/LTvsMA/blowup.png', bbox_inches=\"tight\",dpi=300)"
   ]
  },
  {
   "cell_type": "markdown",
   "metadata": {},
   "source": [
    "Figure 1 : Varying Gamma"
   ]
  },
  {
   "cell_type": "code",
   "execution_count": 15,
   "metadata": {},
   "outputs": [],
   "source": [
    "noise =  4\n",
    "iterations = 10000\n",
    "batch_size = 250\n",
    "gammas = [1e-3,1e-2,1e-1, 1]\n",
    "sizes = np.append([5000],np.arange(50000, 1000000, 100000))\n",
    "df = []\n",
    "for g in gammas:\n",
    "    ds = []\n",
    "    for s in sizes:\n",
    "        target_delta = 10**-(len(str(s))+1)\n",
    "        ds.append(compute_epsilon(noise, batch_size,iterations, target_delta, s, g))\n",
    "    df.append(ds)\n",
    "df = pd.DataFrame(df, index=gammas, columns=sizes)\n",
    "\n"
   ]
  },
  {
   "cell_type": "code",
   "execution_count": 16,
   "metadata": {},
   "outputs": [],
   "source": [
    "df['gamma'] = gammas\n",
    "df['gamma'] = df['gamma'].astype(str)\n",
    "df = df.melt(id_vars='gamma')"
   ]
  },
  {
   "cell_type": "code",
   "execution_count": 17,
   "metadata": {},
   "outputs": [],
   "source": [
    "df = df.rename({'gamma':'Gamma', 'variable':'Dataset Size', 'value':'Final Epsilon'}, axis=1)"
   ]
  },
  {
   "cell_type": "code",
   "execution_count": 14,
   "metadata": {},
   "outputs": [],
   "source": [
    "df = df.melt(id_vars='#candidate')\n",
    "df = df.rename({'#candidate':'No. of candidates', 'variable':'method', 'value':'Final Epsilon'}, axis=1)"
   ]
  },
  {
   "cell_type": "code",
   "execution_count": 18,
   "metadata": {},
   "outputs": [
    {
     "data": {
      "image/png": "[encoded data removed]",
      "text/plain": [
       "<Figure size 432x288 with 1 Axes>"
      ]
     },
     "metadata": {
      "needs_background": "light"
     },
     "output_type": "display_data"
    }
   ],
   "source": [
    "g = sns.barplot(data=df, x='Dataset Size', y='Final Epsilon', hue='Gamma',  palette='deep')\n",
    "ticklabels = ['5k', '50k', '150k', '250k', '350k', '450k', '550k', '650k', '750k', '850k', '950k']\n",
    "# g.set_xticks(sizes)\n",
    "g.set_xticklabels(ticklabels, rotation=90)\n",
    "g.set(yscale='log')\n",
    "# plt.ylim(-1, 4)\n",
    "plt.savefig('Plots/LTvsMA/varying_gamma.png',bbox_inches=\"tight\",dpi=300)\n",
    "plt.show()"
   ]
  },
  {
   "cell_type": "raw",
   "metadata": {},
   "source": [
    "Figure 1 : Candidataes for MA for same privacy as LT"
   ]
  },
  {
   "cell_type": "code",
   "execution_count": 19,
   "metadata": {},
   "outputs": [],
   "source": [
    "noise =  4\n",
    "iterations = 10000\n",
    "batch_size = 250"
   ]
  },
  {
   "cell_type": "code",
   "execution_count": null,
   "metadata": {},
   "outputs": [],
   "source": [
    "sizes = np.arange(5000, 1000000, 20000)\n",
    "gamma = 1\n",
    "ds = []\n",
    "eps = []\n",
    "for s in sizes:\n",
    "    target_delta = 10**-(len(str(s))+1)\n",
    "    lt_eps = compute_epsilon(noise, batch_size,iterations, target_delta, s, gamma)\n",
    "    \n",
    "    ma_eps = epsilon(s, batch_size, noise, 1*iterations, target_delta)\n",
    "    \n",
    "    c = 1\n",
    "    while(ma_eps<lt_eps):\n",
    "        c += 1\n",
    "        ma_eps = epsilon(s, batch_size, noise, c*iterations, target_delta)\n",
    "    ds.append(c)\n",
    "    eps.append(lt_eps)"
   ]
  },
  {
   "cell_type": "code",
   "execution_count": null,
   "metadata": {},
   "outputs": [],
   "source": [
    "plt.plot(sizes, ds)\n",
    "ticklabels = ['5k', '50k', '150k', '250k', '350k', '450k', '550k', '650k', '750k', '850k', '950k']\n",
    "plt.xticks(np.append([5000],np.arange(50000, 1000000, 100000)), ticklabels, rotation=90)\n",
    "# plt.xticks(sizes, rotation=90)\n",
    "plt.ylabel('#Candidates')\n",
    "plt.xlabel('Dataset size')\n",
    "plt.savefig('Plots/LTvsMA/candvssize.png', bbox_inches=\"tight\",dpi=300)"
   ]
  },
  {
   "cell_type": "code",
   "execution_count": null,
   "metadata": {},
   "outputs": [],
   "source": []
  }
 ],
 "metadata": {
  "kernelspec": {
   "display_name": "Python 3",
   "language": "python",
   "name": "python3"
  },
  "language_info": {
   "codemirror_mode": {
    "name": "ipython",
    "version": 3
   },
   "file_extension": ".py",
   "mimetype": "text/x-python",
   "name": "python",
   "nbconvert_exporter": "python",
   "pygments_lexer": "ipython3",
   "version": "3.8.6"
  }
 },
 "nbformat": 4,
 "nbformat_minor": 4
}
